{
  "nbformat": 4,
  "nbformat_minor": 0,
  "metadata": {
    "accelerator": "GPU",
    "colab": {
      "name": "UnityProjects-MLAgents.ipynb",
      "provenance": [],
      "collapsed_sections": []
    },
    "kernelspec": {
      "display_name": "Python 3",
      "name": "python3"
    }
  },
  "cells": [
    {
      "cell_type": "markdown",
      "metadata": {
        "id": "xR429a3Wjwyb"
      },
      "source": [
        "#Pre training setup\r\n"
      ]
    },
    {
      "cell_type": "markdown",
      "metadata": {
        "id": "7Tb8GQ8xjinb"
      },
      "source": [
        "Check to see if you are using a GPU session."
      ]
    },
    {
      "cell_type": "code",
      "metadata": {
        "colab": {
          "base_uri": "https://localhost:8080/"
        },
        "id": "1lGGemz1RPD3",
        "outputId": "5c555f61-53b7-409b-e9c8-e77addd4f9b3"
      },
      "source": [
        "!nvidia-smi"
      ],
      "execution_count": null,
      "outputs": [
        {
          "output_type": "stream",
          "text": [
            "Thu Dec 31 16:26:06 2020       \n",
            "+-----------------------------------------------------------------------------+\n",
            "| NVIDIA-SMI 460.27.04    Driver Version: 418.67       CUDA Version: 10.1     |\n",
            "|-------------------------------+----------------------+----------------------+\n",
            "| GPU  Name        Persistence-M| Bus-Id        Disp.A | Volatile Uncorr. ECC |\n",
            "| Fan  Temp  Perf  Pwr:Usage/Cap|         Memory-Usage | GPU-Util  Compute M. |\n",
            "|                               |                      |               MIG M. |\n",
            "|===============================+======================+======================|\n",
            "|   0  Tesla T4            Off  | 00000000:00:04.0 Off |                    0 |\n",
            "| N/A   42C    P8     9W /  70W |      0MiB / 15079MiB |      0%      Default |\n",
            "|                               |                      |                 ERR! |\n",
            "+-------------------------------+----------------------+----------------------+\n",
            "                                                                               \n",
            "+-----------------------------------------------------------------------------+\n",
            "| Processes:                                                                  |\n",
            "|  GPU   GI   CI        PID   Type   Process name                  GPU Memory |\n",
            "|        ID   ID                                                   Usage      |\n",
            "|=============================================================================|\n",
            "|  No running processes found                                                 |\n",
            "+-----------------------------------------------------------------------------+\n"
          ],
          "name": "stdout"
        }
      ]
    },
    {
      "cell_type": "markdown",
      "metadata": {
        "id": "VarfYwXAkAyq"
      },
      "source": [
        "Clone release 12 branch of ml-agents from github and install it"
      ]
    },
    {
      "cell_type": "code",
      "metadata": {
        "id": "5m6xiJY2XgYr"
      },
      "source": [
        "!git clone --branch release_12 https://github.com/Unity-Technologies/ml-agents.git /content/ml-agents\r\n",
        "!pip3 install -e /content/ml-agents/ml-agents-envs/\r\n",
        "!pip3 install -e /content/ml-agents/ml-agents-envs/\r\n",
        "!pip3 install -e /content/ml-agents/ml-agents/"
      ],
      "execution_count": null,
      "outputs": []
    },
    {
      "cell_type": "markdown",
      "metadata": {
        "id": "brxvsVLWlWBH"
      },
      "source": [
        "Give permission to the executable"
      ]
    },
    {
      "cell_type": "code",
      "metadata": {
        "colab": {
          "base_uri": "https://localhost:8080/"
        },
        "id": "I45qZOmkAjYU",
        "outputId": "6ec9f387-1e2d-4ce8-e41b-6c3d6cbbf3fa"
      },
      "source": [
        "!chmod -R 755 $path_to_.86x64_file_in_google_drive\r\n",
        "!chmod -R 755 $path_to_UnityPlayer.so_file_in_google_drive\r\n",
        "!ls -l $path_to_root_directory_of_build"
      ],
      "execution_count": null,
      "outputs": [
        {
          "output_type": "stream",
          "text": [
            "chmod: cannot access '/content/Car_Chase_Headless_Build/CarChase03.x86_64': No such file or directory\n",
            "chmod: cannot access '/content/Car_Chase_Headless_Build/UnityPlayer.so': No such file or directory\n",
            "ls: cannot access '/content/Car_Chase_Headless_Build/': No such file or directory\n"
          ],
          "name": "stdout"
        }
      ]
    },
    {
      "cell_type": "markdown",
      "metadata": {
        "id": "2PC0YmP7lClR"
      },
      "source": [
        "Its helpful to keep the training folder within google drive to avoid unexpected loss of data due to colab usage limitations."
      ]
    },
    {
      "cell_type": "code",
      "metadata": {
        "colab": {
          "base_uri": "https://localhost:8080/"
        },
        "id": "L2fw6hXEAq2-",
        "outputId": "01ab4bb2-4381-46ac-a58c-1896eb21ff40"
      },
      "source": [
        "%cd $path_to_training_folder"
      ],
      "execution_count": null,
      "outputs": [
        {
          "output_type": "stream",
          "text": [
            "/content/drive/.shortcut-targets-by-id/199/Car_Chase_Headless_Build/Results\n"
          ],
          "name": "stdout"
        }
      ]
    },
    {
      "cell_type": "markdown",
      "metadata": {
        "id": "Hr7F8KfOljnW"
      },
      "source": [
        "Write the config.yaml file in the training folder"
      ]
    },
    {
      "cell_type": "code",
      "metadata": {
        "colab": {
          "base_uri": "https://localhost:8080/"
        },
        "id": "9SbnUorxzWl9",
        "outputId": "2d153086-a982-4890-fcc2-a15800824ca6"
      },
      "source": [
        "\r\n",
        "\r\n",
        "%%writefile config.yaml\r\n",
        "behaviors:\r\n",
        "  default:\r\n",
        "    trainer_type: ppo\r\n",
        "    hyperparameters:\r\n",
        "      batch_size: 32\r\n",
        "      buffer_size: 256\r\n",
        "      learning_rate: 0.001\r\n",
        "      beta: 0.005\r\n",
        "      epsilon: 0.2\r\n",
        "      lambd: 0.95\r\n",
        "      num_epoch: 3\r\n",
        "      learning_rate_schedule: linear\r\n",
        "    network_settings:\r\n",
        "      normalize: false\r\n",
        "      hidden_units: 64\r\n",
        "      num_layers: 2\r\n",
        "      vis_encode_type: simple\r\n",
        "    reward_signals:\r\n",
        "      extrinsic:\r\n",
        "        gamma: 0.99\r\n",
        "        strength: 1.0\r\n",
        "    keep_checkpoints: 5\r\n",
        "    max_steps: 500000\r\n",
        "    time_horizon: 3\r\n",
        "    summary_freq: 20000\r\n",
        "    threaded: true\r\n",
        "  CarAgent:\r\n",
        "    trainer_type: ppo\r\n",
        "\r\n",
        "    hyperparameters:\r\n",
        "      batch_size: 2048\r\n",
        "      buffer_size: 20480\r\n",
        "      learning_rate: 0.0003\r\n",
        "      beta: 0.007\r\n",
        "      epsilon: 0.2\r\n",
        "      lambd: 0.95\r\n",
        "      num_epoch: 3\r\n",
        "      learning_rate_schedule: linear\r\n",
        "\r\n",
        "    network_settings:\r\n",
        "      normalize: true\r\n",
        "      hidden_units: 256\r\n",
        "      num_layers: 3\r\n",
        "      vis_encode_type: simple\r\n",
        "      memory:\r\n",
        "        memory_size: 128\r\n",
        "    reward_signals:\r\n",
        "      extrinsic:\r\n",
        "        gamma: 0.99\r\n",
        "        strength: 1.0\r\n",
        "\r\n",
        "    checkpoint_interval: 500000\r\n",
        "    keep_checkpoints: 10\r\n",
        "    max_steps: 100000000\r\n",
        "    time_horizon: 1000\r\n",
        "    summary_freq: 50000\r\n",
        "    threaded: true"
      ],
      "execution_count": null,
      "outputs": [
        {
          "output_type": "stream",
          "text": [
            "Overwriting config.yaml\n"
          ],
          "name": "stdout"
        }
      ]
    },
    {
      "cell_type": "code",
      "metadata": {
        "id": "wxptmfmovWY5"
      },
      "source": [
        "env_name = path to .86x64 file\r\n",
        "run_id = whatever name you like"
      ],
      "execution_count": null,
      "outputs": []
    },
    {
      "cell_type": "markdown",
      "metadata": {
        "id": "vq3NSxhpl6wu"
      },
      "source": [
        "Launch tensorboard before training to see the statistics during training"
      ]
    },
    {
      "cell_type": "code",
      "metadata": {
        "id": "He1Pi9EL1FD0"
      },
      "source": [
        "%load_ext tensorboard\r\n",
        "%tensorboard --logdir results"
      ],
      "execution_count": null,
      "outputs": []
    },
    {
      "cell_type": "markdown",
      "metadata": {
        "id": "OkILdn1lj8Db"
      },
      "source": [
        "# Actual training\r\n"
      ]
    },
    {
      "cell_type": "code",
      "metadata": {
        "id": "oaiQuxKB7kMR"
      },
      "source": [
        "!mlagents-learn --help"
      ],
      "execution_count": null,
      "outputs": []
    },
    {
      "cell_type": "markdown",
      "metadata": {
        "id": "yoK23vs2mPAN"
      },
      "source": [
        "In my case I had to run the command below 4-5 times before it successfully connected to the executable environment."
      ]
    },
    {
      "cell_type": "code",
      "metadata": {
        "id": "C-D3YMLIZbcI"
      },
      "source": [
        "!mlagents-learn config.yaml --run-id $run_id --env $env_name"
      ],
      "execution_count": null,
      "outputs": []
    }
  ]
}